{
 "cells": [
  {
   "cell_type": "markdown",
   "metadata": {
    "id": "abn2BJFkYJ1m"
   },
   "source": [
    "## Balandis, Alina\n",
    "## Gelabert Gómez, Martí\n",
    "\n",
    "\n",
    "# Imports 🦄"
   ]
  },
  {
   "cell_type": "code",
   "execution_count": 5,
   "metadata": {
    "colab": {
     "base_uri": "https://localhost:8080/"
    },
    "executionInfo": {
     "elapsed": 7163,
     "status": "ok",
     "timestamp": 1667226619249,
     "user": {
      "displayName": "Martí Gelabert Gómez",
      "userId": "13467979719953201998"
     },
     "user_tz": -60
    },
    "id": "98VydNgEcqVu",
    "outputId": "4646bb03-f9f3-441e-bf1c-d6d6da0f67c0"
   },
   "outputs": [
    {
     "name": "stdout",
     "output_type": "stream",
     "text": [
      "Looking in indexes: https://pypi.org/simple, https://us-python.pkg.dev/colab-wheels/public/simple/\n",
      "Collecting scikit-fuzzy\n",
      "  Downloading scikit-fuzzy-0.4.2.tar.gz (993 kB)\n",
      "\u001b[K     |████████████████████████████████| 993 kB 5.3 MB/s \n",
      "\u001b[?25hRequirement already satisfied: numpy>=1.6.0 in /usr/local/lib/python3.7/dist-packages (from scikit-fuzzy) (1.21.6)\n",
      "Requirement already satisfied: scipy>=0.9.0 in /usr/local/lib/python3.7/dist-packages (from scikit-fuzzy) (1.7.3)\n",
      "Requirement already satisfied: networkx>=1.9.0 in /usr/local/lib/python3.7/dist-packages (from scikit-fuzzy) (2.6.3)\n",
      "Building wheels for collected packages: scikit-fuzzy\n",
      "  Building wheel for scikit-fuzzy (setup.py) ... \u001b[?25l\u001b[?25hdone\n",
      "  Created wheel for scikit-fuzzy: filename=scikit_fuzzy-0.4.2-py3-none-any.whl size=894089 sha256=f79bd7e1f42e9fbc1604e181b95348c06fd7f6597313a04f04cc56701c74f3d6\n",
      "  Stored in directory: /root/.cache/pip/wheels/d5/74/fc/38588a3d2e3f34f74588e6daa3aa5b0a322bd6f9420a707131\n",
      "Successfully built scikit-fuzzy\n",
      "Installing collected packages: scikit-fuzzy\n",
      "Successfully installed scikit-fuzzy-0.4.2\n"
     ]
    }
   ],
   "source": [
    "!pip install scikit-fuzzy"
   ]
  },
  {
   "cell_type": "code",
   "execution_count": 5,
   "metadata": {
    "executionInfo": {
     "elapsed": 875,
     "status": "ok",
     "timestamp": 1667226626441,
     "user": {
      "displayName": "Martí Gelabert Gómez",
      "userId": "13467979719953201998"
     },
     "user_tz": -60
    },
    "id": "C0owAzSUxxeA"
   },
   "outputs": [],
   "source": [
    "# imports bla bla bla\n",
    "import sklearn\n",
    "import skfuzzy as fuzz\n",
    "import numpy as np\n",
    "import pandas as pd\n",
    "from sklearn.datasets import *\n",
    "import matplotlib.pyplot as plt\n",
    "import math\n",
    "import seaborn as sns\n",
    "\n",
    "# Classic sample export\n",
    "from sklearn.preprocessing import MinMaxScaler"
   ]
  },
  {
   "cell_type": "markdown",
   "metadata": {
    "id": "K1Deg6BIcZQe"
   },
   "source": [
    "# Functions\n",
    "\n",
    "## Normalization and data preprocessing"
   ]
  },
  {
   "cell_type": "code",
   "execution_count": 6,
   "metadata": {
    "executionInfo": {
     "elapsed": 359,
     "status": "ok",
     "timestamp": 1667226634103,
     "user": {
      "displayName": "Martí Gelabert Gómez",
      "userId": "13467979719953201998"
     },
     "user_tz": -60
    },
    "id": "JyK0K2l9cZQf"
   },
   "outputs": [],
   "source": [
    "# Normalization of your data\n",
    "# now everything will be set in a range of 0 to 1\n",
    "def splitLastColumn(x):\n",
    "  \"\"\" Returns two numpy vector corresponding to x and y. Splits last columns, and y is transformed to column to row shape.\n",
    "      [x1,x2,x3,x4,y] -> [x1,x2,x3,x4] [y]    \n",
    "  \"\"\"\n",
    "  # the [:end] will not take the end number position in count\n",
    "  end = x.shape[1]-1\n",
    "  y = x[:,end:]\n",
    "  return (np.array(x[:,:end]),np.array(y).flatten())\n",
    "\n",
    "def normalize_data(x):\n",
    "    \"\"\" Appling minmax normalization on the y axis sample = [x1,x2,x3,x4]\"\"\"\n",
    "    scaler = MinMaxScaler()\n",
    "    data_scaled = scaler.fit_transform(x)\n",
    "    return data_scaled, scaler\n",
    "\n",
    "# each row represents one feature from all samples in order\n",
    "def reshape_feature(x):\n",
    "  values = []\n",
    "  for feature in range(x.shape[1]):\n",
    "    f = []\n",
    "    for i in range(x.shape[0]):\n",
    "      f.append(x[i][feature])\n",
    "    values.append(f)\n",
    "  return np.array(values)\n",
    "\n"
   ]
  },
  {
   "cell_type": "markdown",
   "metadata": {
    "id": "3XWeKGXjcZQh"
   },
   "source": [
    "## Generating function peaks"
   ]
  },
  {
   "cell_type": "code",
   "execution_count": 7,
   "metadata": {
    "executionInfo": {
     "elapsed": 260,
     "status": "ok",
     "timestamp": 1667226638184,
     "user": {
      "displayName": "Martí Gelabert Gómez",
      "userId": "13467979719953201998"
     },
     "user_tz": -60
    },
    "id": "YtNzH9ahcZQh"
   },
   "outputs": [],
   "source": [
    "# Generate an arrays with a 3 element list for each k partition\n",
    "# with the values of a triangular shape functions like\n",
    "# [begining, peak value, ending] \n",
    "def k_partitions(k: int, min: int, max: int) -> np.ndarray:\n",
    "  \"\"\"  Generate an arrays with a 3 element list for each k partition with the values of a triangular shape functions like\n",
    "       [begining, peak value, ending] points \"\"\"\n",
    "  spaces = []\n",
    "  portion = (max-min)/(k-1)\n",
    "  counter = 0\n",
    "  for i in range(k):\n",
    "    if(i==0): # first triangle is just half of it\n",
    "      spaces.append([min,min, min + portion])\n",
    "      counter = min + portion\n",
    "    else:\n",
    "      if(i==(k-1)): # last triangle is just half of it\n",
    "        spaces.append([max-portion,max, max])\n",
    "      else: # General cases\n",
    "        spaces.append([counter-portion,counter,counter+portion])\n",
    "        counter=counter+portion\n",
    "  return np.array(spaces)\n"
   ]
  },
  {
   "cell_type": "markdown",
   "metadata": {
    "id": "RRXqkwApcZQk"
   },
   "source": [
    "## Fuzzy functions"
   ]
  },
  {
   "cell_type": "code",
   "execution_count": 39,
   "metadata": {
    "executionInfo": {
     "elapsed": 242,
     "status": "ok",
     "timestamp": 1667226695632,
     "user": {
      "displayName": "Martí Gelabert Gómez",
      "userId": "13467979719953201998"
     },
     "user_tz": -60
    },
    "id": "irhehrx3cZQl"
   },
   "outputs": [],
   "source": [
    "def mu(x,j,k) -> np.ndarray:\n",
    "  a = (j - 1)/(k-1)\n",
    "  b = 1/(k-1)\n",
    "  value = 1 - abs(x-a)/b\n",
    "  if value <=0:\n",
    "    return 0\n",
    "  else:\n",
    "    return value\n",
    "\n",
    "# For each feature you will have a k lenght vector with the \n",
    "# membership degree of that place.\n",
    "def membership_for_all_features(x: np.ndarray, k:np.ndarray):\n",
    "  \"\"\"For each feature you will have a k lenght vector with the membership degree of that place.\"\"\"\n",
    "  output = []\n",
    "  n_features = len(k)\n",
    "  for sample in range(len(x)):\n",
    "    membership_i = []\n",
    "    # for every feature in the sample\n",
    "    i = 0\n",
    "    for f in range(n_features):\n",
    "      tmp=[]\n",
    "      # for every subspace of that feature\n",
    "      for j in range(k[i]):\n",
    "        if n_features == 1:\n",
    "          tmp.append(mu(x[sample],j+1,k[i]))\n",
    "        else:\n",
    "          tmp.append(mu(x[sample][f],j+1,k[i]))\n",
    "      # check for the next k_i\n",
    "      i+=1\n",
    "      membership_i.append(tmp)\n",
    "    # when you finish to append you will get the membership of every characteristic of that sample  \n",
    "    output.append(membership_i)\n",
    "  return output\n",
    "\n",
    "#####IMPORTANT CHANGE THIS TO BE DINAMIC\n",
    "# Here we just generate all posible combinations for all the feature k_i\n",
    "def combinations_for_k(k:np.ndarray):\n",
    "  \"\"\" Here we just generate all posible combinations for all the feature k_i \n",
    "      for example k = [2,2] will return\n",
    "      [[1,1],[1,2],[2,1],[2,2]]\n",
    "  \"\"\"\n",
    "  output = []\n",
    "  labels = len(k)\n",
    "  ### Change this\n",
    "  if len(k)==3:\n",
    "    for j in range(k[0]):\n",
    "      for r in range(k[1]):\n",
    "        for m in range(k[2]):\n",
    "          output.append([j,r,m])\n",
    "    return output\n",
    "  if len(k)==2:\n",
    "    for j in range(k[0]):\n",
    "      for r in range(k[1]):\n",
    "        output.append([j,r])\n",
    "    return output\n",
    "  else:\n",
    "    for j in range(k[0]):\n",
    "      output.append([j])\n",
    "    return output\n",
    "\n",
    "# now we need to compute every degree of compatibility with every combination\n",
    "# we will have k_1*k2*...K_n diferent combinations\n",
    "# if one sample is provided use [[0,3  0,2  0,3]]\n",
    "def degree_of_compatibility(membership_values, combinations):\n",
    "  output = []\n",
    "  n_features = len(combinations[0])\n",
    "  n_samples = len(membership_values)\n",
    "\n",
    "  for i in range(n_samples):\n",
    "    general = []\n",
    "    for c in combinations:\n",
    "      tmp = []\n",
    "      for j in range(n_features):\n",
    "        if len(membership_values[i])==1:\n",
    "            tmp.append(membership_values[i][0][c[j]])\n",
    "        else:\n",
    "            tmp.append(membership_values[i][j][c[j]])\n",
    "      tmp=np.array(tmp)\n",
    "      general.append(np.product(tmp))\n",
    "    output.append(general)\n",
    "  return output\n",
    "\n",
    "# calculating all combinations for W\n",
    "def Wj1_jn(dc,k:np.ndarray, alpha=1):\n",
    "    return np.power(dc,alpha)\n",
    "\n",
    "# Now we need to compute bj1..jn, we will get a vector with the number of combinations\n",
    "# posible\n",
    "# Fuck x2\n",
    "def bj1_jn(w, y_real):\n",
    "  output = []\n",
    "  n_samples=len(w)\n",
    "  for j in range(len(w[0])):# these are the number of combinations we have\n",
    "    numerator = [] \n",
    "    denominator = []\n",
    "    for i in range(n_samples):\n",
    "      numerator.append(w[i][j]*y_real[i])\n",
    "      denominator.append(w[i][j])\n",
    "    numerator=np.array(numerator)\n",
    "    denominator=np.array(denominator)\n",
    "    #print(denominator)\n",
    "    value = np.sum(numerator)/np.sum(denominator)\n",
    "    output.append(value)\n",
    "  return output\n",
    "\n",
    "#y(x_p)\n",
    "# First version of prediction\n",
    "def prediction(dc,b,w):\n",
    "    output = []\n",
    "    n_samples=len(w)\n",
    "  \n",
    "    # change samples\n",
    "    for i in range(n_samples):\n",
    "        numerator = [] \n",
    "        denominator = []\n",
    "\n",
    "        for j in range(len(w[0])):# these are the number of combinations we have\n",
    "            numerator.append(dc[i][j]*b[j])\n",
    "            denominator.append(dc[i][j])\n",
    "\n",
    "        numerator=np.array(numerator)\n",
    "        denominator=np.array(denominator)\n",
    "        #print(denominator)\n",
    "        value = np.sum(numerator)/np.sum(denominator)\n",
    "        output.append(value)\n",
    "    return output\n",
    "\n",
    "\n",
    "def execute_4_2(x,y,k,alpha,B):\n",
    "  #membership_values=fuzz_membership(x,k)\n",
    "  membership_values = membership_for_all_features(x,k)\n",
    "  #print(\"Shape of membership values ->\",np.array(membership_values).shape)\n",
    "\n",
    "\n",
    "  # this will be the subspaces we will check on each value space\n",
    "  combinations = combinations_for_k(k)\n",
    "  dc = degree_of_compatibility(membership_values, combinations)\n",
    "  #print(\"Shape of the degree of compatibility vector (samples, combinations) ->\",np.array(dc).shape)\n",
    "\n",
    "  w = Wj1_jn(dc,k,alpha)\n",
    "  #print(\"Shape of W, should be same as dc ->\",np.array(dc).shape)\n",
    "\n",
    "  b = bj1_jn(w,y)  \n",
    "\n",
    "  y_p,_,_=predictV2(x,b, B,k)\n",
    "  #y_p = prediction(dc,b,w)\n",
    "\n",
    "  PI = []\n",
    "  for i in range(len(y)):\n",
    "    a = (y_p[i]-y[i])**2\n",
    "    PI.append(a/2)\n",
    "    # print(f'predicted {y_p[i]} - real {y[i]}')\n",
    "  PI=np.array(PI)\n",
    "  print(\"K = \",k,\" alpha = \",alpha,\" accuracy = \", np.sum(PI) )\n",
    "  return np.sum(PI),y_p,b\n",
    "\n",
    "# This method allows to predict the values with the method shown in the section 4 of the papers\n",
    "# Here we will be using the two tables\n",
    "def predictV2(x,b:np.ndarray, B:np.ndarray,k:np.ndarray):\n",
    "\n",
    "    membership_values = membership_for_all_features(b,B)# this is the good one\n",
    "\n",
    "    membership_values_x = membership_for_all_features(x,k)\n",
    "    combinations = combinations_for_k(k)\n",
    "\n",
    "    # U_ji...jn\n",
    "    dc = degree_of_compatibility(membership_values_x, combinations)\n",
    "    \n",
    "    # this tables only will contain the linguistic labels\n",
    "    first_table = np.zeros((k[0],k[1]))\n",
    "    second_table = np.zeros((k[0],k[1]))\n",
    "    \n",
    "    # this will contain the raw membership functions values \n",
    "    raw_first = np.zeros((k[0],k[1]))\n",
    "    raw_second = np.zeros((k[0],k[1]))\n",
    "    \n",
    "    output_table = np.zeros((k[0],k[1]))\n",
    "    \n",
    "    space = k_partitions(B[0], 0, 1)\n",
    "    #space = k_partitions(k, 0, 1)\n",
    "   \n",
    "    for i in range(len(combinations)):\n",
    "        \n",
    "        first_table[combinations[i][0]][combinations[i][1]]= np.argmax(membership_values[i])\n",
    "        raw_first[combinations[i][0]][combinations[i][1]] = membership_values[i][0][np.argmax(membership_values[i])]\n",
    "\n",
    "        #if combinations[i][0]==2 and combinations[i][1]==0:\n",
    "        #   print(membership_values[i])\n",
    "        \n",
    "    for i in range(len(combinations)):    \n",
    "        #####\n",
    "        tmp = membership_values[i][0]\n",
    "        tmp[np.argmax(membership_values[i])]=-42 # the answer to everythin is 42\n",
    "        second_table[combinations[i][0]][combinations[i][1]]= np.argmax(tmp)\n",
    "        \n",
    "        raw_second[combinations[i][0]][combinations[i][1]]= membership_values[i][0][np.argmax(tmp)]\n",
    "        \n",
    "    prediction = []\n",
    "    for sample in range(len(x)):\n",
    "        numerator = 0\n",
    "        denominator = 0\n",
    "        for i in range(len(combinations)):\n",
    "            # What is B**\n",
    "            \n",
    "            # Getting the first and the second membership space for the b fuzzy\n",
    "            # in Bx[1] we will find the peak values\n",
    "            B1 = space[int(first_table[combinations[i][0]][combinations[i][1]])]\n",
    "            B2 = space[int(second_table[combinations[i][0]][combinations[i][1]])]\n",
    "            \n",
    "            numerator   += dc[sample][i]*B1[1]*raw_first[combinations[i][0]][combinations[i][1]] + dc[sample][i]*B2[1]*raw_second[combinations[i][0]][combinations[i][1]]\n",
    "            denominator += dc[sample][i]*raw_first[combinations[i][0]][combinations[i][1]] + dc[sample][i]*raw_second[combinations[i][0]][combinations[i][1]]\n",
    "        \n",
    "        # this is literally y(p) for computing the bs\n",
    "        prediction.append(numerator/denominator)\n",
    "   \n",
    "    return prediction, first_table, second_table\n"
   ]
  },
  {
   "cell_type": "markdown",
   "metadata": {},
   "source": [
    "# Representations for tables"
   ]
  },
  {
   "cell_type": "code",
   "execution_count": 9,
   "metadata": {},
   "outputs": [],
   "source": [
    "# we will guess that we are working with a bidimensional array of kx=5\n",
    "def representation(table, combinations):\n",
    "    t = [\"S\",\"MS\",\"M\",\"ML\",\"L\"]\n",
    "    \n",
    "    for c in combinations:\n",
    "        print(\"x1 = \",t[c[0]], \" x2 = \",t[c[1]],\" === \", t[int(table[c[0]][c[1]])])\n",
    "    \n",
    "# we will guess that we are working with a bidimensional array of kx=5\n",
    "def representation_num(table, combinations):\n",
    "    t = [\"S\",\"MS\",\"M\",\"ML\",\"L\"]\n",
    "    \n",
    "    for c in combinations:\n",
    "        print(\"x1 = \",t[c[0]], \" x2 = \",t[c[1]],\" === \", table[c[0]][c[1]])\n",
    "        \n",
    "def transform_table_labels(table, combinations):\n",
    "    t = [\"S\",\"MS\",\"M\",\"ML\",\"L\"]\n",
    "    a = np.array([ ['a', 'a', 'a','a','a'],\n",
    "                     ['a', 'a', 'a','a','a'],\n",
    "                     ['a', 'a', 'a','a','a'],\n",
    "                     ['a', 'a', 'a','a','a'],\n",
    "                     ['a', 'a', 'a','a','a']],dtype=object)\n",
    "    for c in combinations:\n",
    "        a[int(table[c[0]][c[1]])]= t[int(table[c[0]][c[1]])]\n",
    "    return a\n",
    "    "
   ]
  },
  {
   "cell_type": "markdown",
   "metadata": {},
   "source": [
    "## Equations for testing"
   ]
  },
  {
   "cell_type": "code",
   "execution_count": 40,
   "metadata": {},
   "outputs": [],
   "source": [
    "def equation13():\n",
    "    \"\"\"Get x and y from the paper dataset already normalized\"\"\"\n",
    "    data = np.arange(0, 1.1, 0.1)\n",
    "    output = []\n",
    "    for x in data:\n",
    "        output.append(0.2*math.sin(2*math.pi*x+math.pi/4) + 0.5)\n",
    "    return data, np.array(output)\n",
    "\n",
    "def equation25():\n",
    "    \"\"\"Get x and y from the paper dataset already normalized\"\"\"\n",
    "    x1 = [1.40, 4.28, 1.18, 1.96, 1.85, 3.66, 3.64, 4.51, 3.77, 4.84, 1.05, 4.51, 1.84, 1.67, 2.03, 3.62, 1.67, 3.38, 2.83, 1.48, 3.37, 2.84, 1.19, 4.10, 1.65, 2.00, 2.71, 1.78, 3.61, 2.24, 1.81, 4.85, 3.41, 1.38, 2.46, 2.66, 4.44, 3.11, 4.47, 1.35, 1.24, 2.81, 1.92, 4.61, 3.04, 4.82, 2.58, 4.14, 4.35, 2.22]\n",
    "    x2 = [1.80, 4.96, 4.29, 1.90, 1.43, 1.60, 2.14, 1.52, 1.45, 4.32, 2.55, 1.37, 4.43, 2.81, 1.88, 1.95, 2.23, 3.70, 1.77, 4.44, 2.13, 1.24, 1.53, 1.71, 1.38, 2.06, 4.13, 1.11, 2.27, 3.74, 3.18, 4.66, 3.88, 2.55, 2.12, 4.42, 4.71, 1.06, 3.66, 1.76, 1.41, 1.35, 4.25, 2.68, 4.97, 3.80, 1.97, 4.76, 3.90, 1.35]\n",
    "    y = [3.70, 1.31, 3.35, 2.70, 3.52, 2.46, 1.95, 2.51, 2.70, 1.33, 4.63, 2.80, 1.97, 2.47, 2.66, 2.08, 2.75, 1.51, 2.40, 2.44, 1.99, 3.42, 4.99, 2.27, 3.94, 2.52, 1.58, 4.71, 1.87, 1.79, 2.20, 1.30, 1.48, 3.14, 2.22, 1.56, 1.32, 4.08, 1.42, 3.91, 5.05, 1.97, 1.92, 1.63, 1.44, 1.39, 2.29, 1.33, 1.40, 3.39]\n",
    "    \n",
    "    arr = np.zeros((len(x1),3))\n",
    "\n",
    "    for i in range(len(x1)):\n",
    "        arr[i][0] = x1[i]\n",
    "        arr[i][1] = x2[i]\n",
    "        arr[i][2] = y[i]\n",
    "\n",
    "    data_scaled,_ = normalize_data(arr)\n",
    "    x, y = splitLastColumn(data_scaled)\n",
    "    return x,y"
   ]
  },
  {
   "cell_type": "markdown",
   "metadata": {
    "id": "NSyUGySArrZz"
   },
   "source": [
    "## Functions for execution"
   ]
  },
  {
   "cell_type": "code",
   "execution_count": 37,
   "metadata": {},
   "outputs": [],
   "source": [
    "\n",
    "def execute(x,y,k=np.array([5,5]), alpha = 5, v=0, B=np.array([5])):\n",
    "\n",
    "  membership_values = membership_for_all_features(x,k)\n",
    "\n",
    "  # this will be the subspaces we will check on each value space\n",
    "  combinations = combinations_for_k(k)\n",
    "  dc = degree_of_compatibility(membership_values, combinations)\n",
    "    \n",
    "  w = Wj1_jn(dc,k,alpha)\n",
    "\n",
    "  b = bj1_jn(w,y)  \n",
    "    \n",
    "  if v==0:\n",
    "      y_p = prediction(dc,b,w)\n",
    "  if v == 1:\n",
    "      y_p,_,_ = predictV2(x, b, B, k)\n",
    "  else:\n",
    "    print(\"Predict with method from section 3\")\n",
    "    y_p = prediction(dc,b,w)\n",
    "    \n",
    "  PI = []\n",
    "  for i in range(len(y)):\n",
    "    a = (y_p[i]-y[i])**2\n",
    "    PI.append(a/2)\n",
    "    # print(f'predicted {y_p[i]} - real {y[i]}')\n",
    "  PI=np.array(PI)\n",
    "  #print(\"K = \",k,\" alpha = \",alpha,\" accuracy = \", np.sum(PI) )\n",
    "  return np.sum(PI),y_p,b\n",
    "\n",
    "\n",
    "def execute_test(x,y,ks= [[2,2],[3,3],[4,4],[5,5]], alphas = [0.1,0.5,1,5,10,50,100], B=[5], v=0):\n",
    "    \"\"\"This method will execute a secuence of tests for evaluation\"\"\"\n",
    "    print(\"Prediction with section \", v+3 , \" method\")\n",
    "    general = []\n",
    "    for alpha in alphas:\n",
    "      row = [alpha]\n",
    "      for k in ks:\n",
    "        a,out,_ = execute(x,y,np.array(k),alpha,v,B)\n",
    "        row.append(a)\n",
    "      general.append(row)\n",
    "\n",
    "    # Create the pandas DataFrame\n",
    "    df = pd.DataFrame(general, columns=['alpha', 'K = 2','K = 3','K = 4','K = 5'])\n",
    "    # print dataframe.\n",
    "    return df\n",
    "\n",
    "\n",
    "\n"
   ]
  },
  {
   "cell_type": "code",
   "execution_count": 61,
   "metadata": {},
   "outputs": [
    {
     "data": {
      "text/plain": [
       "0.16982369076831957"
      ]
     },
     "execution_count": 61,
     "metadata": {},
     "output_type": "execute_result"
    }
   ],
   "source": [
    "execute(x,y,k=np.array([5,5]),alpha = 5, v=1, B=np.array([2]))[0]"
   ]
  },
  {
   "cell_type": "code",
   "execution_count": 34,
   "metadata": {},
   "outputs": [
    {
     "name": "stdout",
     "output_type": "stream",
     "text": [
      "Prediction with section  3  method\n"
     ]
    },
    {
     "data": {
      "text/html": [
       "<div>\n",
       "<style scoped>\n",
       "    .dataframe tbody tr th:only-of-type {\n",
       "        vertical-align: middle;\n",
       "    }\n",
       "\n",
       "    .dataframe tbody tr th {\n",
       "        vertical-align: top;\n",
       "    }\n",
       "\n",
       "    .dataframe thead th {\n",
       "        text-align: right;\n",
       "    }\n",
       "</style>\n",
       "<table border=\"1\" class=\"dataframe\">\n",
       "  <thead>\n",
       "    <tr style=\"text-align: right;\">\n",
       "      <th></th>\n",
       "      <th>alpha</th>\n",
       "      <th>K = 2</th>\n",
       "      <th>K = 3</th>\n",
       "      <th>K = 4</th>\n",
       "      <th>K = 5</th>\n",
       "    </tr>\n",
       "  </thead>\n",
       "  <tbody>\n",
       "    <tr>\n",
       "      <th>0</th>\n",
       "      <td>0.1000</td>\n",
       "      <td>1.6220</td>\n",
       "      <td>0.7466</td>\n",
       "      <td>0.5654</td>\n",
       "      <td>0.4154</td>\n",
       "    </tr>\n",
       "    <tr>\n",
       "      <th>1</th>\n",
       "      <td>0.5000</td>\n",
       "      <td>1.1827</td>\n",
       "      <td>0.6298</td>\n",
       "      <td>0.4620</td>\n",
       "      <td>0.3216</td>\n",
       "    </tr>\n",
       "    <tr>\n",
       "      <th>2</th>\n",
       "      <td>1.0000</td>\n",
       "      <td>0.9257</td>\n",
       "      <td>0.5231</td>\n",
       "      <td>0.3738</td>\n",
       "      <td>0.2490</td>\n",
       "    </tr>\n",
       "    <tr>\n",
       "      <th>3</th>\n",
       "      <td>5.0000</td>\n",
       "      <td>0.7276</td>\n",
       "      <td>0.4051</td>\n",
       "      <td>0.2333</td>\n",
       "      <td>0.1698</td>\n",
       "    </tr>\n",
       "    <tr>\n",
       "      <th>4</th>\n",
       "      <td>10.0000</td>\n",
       "      <td>0.9782</td>\n",
       "      <td>0.5662</td>\n",
       "      <td>0.2340</td>\n",
       "      <td>0.1941</td>\n",
       "    </tr>\n",
       "    <tr>\n",
       "      <th>5</th>\n",
       "      <td>50.0000</td>\n",
       "      <td>1.6011</td>\n",
       "      <td>0.8628</td>\n",
       "      <td>0.2614</td>\n",
       "      <td>0.2166</td>\n",
       "    </tr>\n",
       "    <tr>\n",
       "      <th>6</th>\n",
       "      <td>100.0000</td>\n",
       "      <td>1.6968</td>\n",
       "      <td>0.8763</td>\n",
       "      <td>0.2716</td>\n",
       "      <td>0.2170</td>\n",
       "    </tr>\n",
       "  </tbody>\n",
       "</table>\n",
       "</div>"
      ],
      "text/plain": [
       "     alpha  K = 2  K = 3  K = 4  K = 5\n",
       "0   0.1000 1.6220 0.7466 0.5654 0.4154\n",
       "1   0.5000 1.1827 0.6298 0.4620 0.3216\n",
       "2   1.0000 0.9257 0.5231 0.3738 0.2490\n",
       "3   5.0000 0.7276 0.4051 0.2333 0.1698\n",
       "4  10.0000 0.9782 0.5662 0.2340 0.1941\n",
       "5  50.0000 1.6011 0.8628 0.2614 0.2166\n",
       "6 100.0000 1.6968 0.8763 0.2716 0.2170"
      ]
     },
     "execution_count": 34,
     "metadata": {},
     "output_type": "execute_result"
    }
   ],
   "source": [
    "#x,y=equation25()\n",
    "#execute_test(x,y,ks= [[2,2],[3,3],[4,4],[5,5]], alphas = [0.1,0.5,1,5,10,50,100], B=[5], v=0)\n",
    "#execute_test(x,y,ks= [[2,2],[3,3],[4,4],[5,5]], alphas = [0.1,0.5,1,5,10,50,100], B=[5], v=1)"
   ]
  },
  {
   "cell_type": "code",
   "execution_count": 31,
   "metadata": {
    "executionInfo": {
     "elapsed": 702,
     "status": "ok",
     "timestamp": 1667238033104,
     "user": {
      "displayName": "Martí Gelabert Gómez",
      "userId": "13467979719953201998"
     },
     "user_tz": -60
    },
    "id": "e9Z0Nd94guR4"
   },
   "outputs": [],
   "source": [
    "B = [5]\n",
    "x,y=equation25()\n",
    "k = [5,5]\n",
    "\n",
    "a,out,b = execute(x,y,np.array(k),5)\n",
    "\n",
    "\n",
    "\n",
    "\n",
    "# This method returns a matrix with the b values mapped and the two tables to map linguistic labels.\n",
    "def tables_and_b_table(x,b:np.ndarray, B:np.ndarray,k:np.ndarray):\n",
    "    #membership_values = fuzz_membership(b,B)\n",
    "    membership_values = membership_for_all_features(b,B)# this is the good one\n",
    "\n",
    "    membership_values_x = membership_for_all_features(x,k)\n",
    "    combinations = combinations_for_k(k)\n",
    "\n",
    "    # U_ji...jn\n",
    "    dc = degree_of_compatibility(membership_values_x, combinations)\n",
    "    \n",
    "    # this tables only will contain the linguistic labels\n",
    "    first_table = np.zeros((k[0],k[1]))\n",
    "    second_table = np.zeros((k[0],k[1]))\n",
    "    \n",
    "    # this will contain the raw membership functions values \n",
    "    raw_first = np.zeros((k[0],k[1]))\n",
    "    raw_second = np.zeros((k[0],k[1]))\n",
    "    \n",
    "    output_table = np.zeros((k[0],k[1]))\n",
    "    \n",
    "    space = k_partitions(B[0], 0, 1)\n",
    "    #space = k_partitions(k, 0, 1)\n",
    "   \n",
    "    for i in range(len(combinations)):\n",
    "        \n",
    "        first_table[combinations[i][0]][combinations[i][1]]= np.argmax(membership_values[i])\n",
    "        raw_first[combinations[i][0]][combinations[i][1]] = membership_values[i][0][np.argmax(membership_values[i])]\n",
    "\n",
    "        #if combinations[i][0]==2 and combinations[i][1]==0:\n",
    "        #   print(membership_values[i])\n",
    "        \n",
    "    for i in range(len(combinations)):    \n",
    "        #####\n",
    "        tmp = membership_values[i][0]\n",
    "        tmp[np.argmax(membership_values[i])]=-42 # the answer to everythin is 42\n",
    "        second_table[combinations[i][0]][combinations[i][1]]= np.argmax(tmp)\n",
    "        \n",
    "        raw_second[combinations[i][0]][combinations[i][1]]= membership_values[i][0][np.argmax(tmp)]\n",
    "    \n",
    "    for i in range(len(combinations)):\n",
    "         output_table[combinations[i][0]][combinations[i][1]]=b[i]\n",
    "   \n",
    "    return output_table, first_table,second_table"
   ]
  },
  {
   "cell_type": "code",
   "execution_count": 14,
   "metadata": {
    "colab": {
     "base_uri": "https://localhost:8080/",
     "height": 1000
    },
    "executionInfo": {
     "elapsed": 1357,
     "status": "ok",
     "timestamp": 1667235183249,
     "user": {
      "displayName": "Martí Gelabert Gómez",
      "userId": "13467979719953201998"
     },
     "user_tz": -60
    },
    "id": "7kPG5eDxcZQu",
    "outputId": "97d76e3f-5659-4d35-b458-4a975cf98fe5",
    "scrolled": true
   },
   "outputs": [
    {
     "ename": "NameError",
     "evalue": "name 'deriving_second' is not defined",
     "output_type": "error",
     "traceback": [
      "\u001b[1;31m---------------------------------------------------------------------------\u001b[0m",
      "\u001b[1;31mNameError\u001b[0m                                 Traceback (most recent call last)",
      "Input \u001b[1;32mIn [14]\u001b[0m, in \u001b[0;36m<cell line: 1>\u001b[1;34m()\u001b[0m\n\u001b[1;32m----> 1\u001b[0m output,f,s \u001b[38;5;241m=\u001b[39m\u001b[43mderiving_second\u001b[49m(x,b,np\u001b[38;5;241m.\u001b[39marray(B) ,np\u001b[38;5;241m.\u001b[39marray(k))        \n\u001b[0;32m      2\u001b[0m ax \u001b[38;5;241m=\u001b[39m sns\u001b[38;5;241m.\u001b[39mheatmap(output  , annot \u001b[38;5;241m=\u001b[39m \u001b[38;5;28;01mTrue\u001b[39;00m, cmap \u001b[38;5;241m=\u001b[39m\u001b[38;5;124m'\u001b[39m\u001b[38;5;124mplasma\u001b[39m\u001b[38;5;124m'\u001b[39m,linecolor \u001b[38;5;241m=\u001b[39m\u001b[38;5;124m'\u001b[39m\u001b[38;5;124mblack\u001b[39m\u001b[38;5;124m'\u001b[39m, linewidths \u001b[38;5;241m=\u001b[39m \u001b[38;5;241m1\u001b[39m)\n\u001b[0;32m      3\u001b[0m ax\u001b[38;5;241m.\u001b[39minvert_yaxis()  \n",
      "\u001b[1;31mNameError\u001b[0m: name 'deriving_second' is not defined"
     ]
    }
   ],
   "source": [
    "output,f,s =deriving_second(x,b,np.array(B) ,np.array(k))        \n",
    "ax = sns.heatmap(output  , annot = True, cmap ='plasma',linecolor ='black', linewidths = 1)\n",
    "ax.invert_yaxis()  \n",
    "\n",
    "representation_num(output, combinations = combinations_for_k(k))\n",
    "#transform_table_labels(s,combinations_for_k(k))\n",
    "\n",
    "#ax = sns.heatmap(s  , annot = True, cmap ='plasma',linecolor ='black', linewidths = 1)\n",
    "#ax.invert_yaxis() \n",
    "\n",
    "\n",
    "#representation(s,combinations_for_k(k))\n",
    "\n",
    "#deriving(b,np.array(B),np.array(k))"
   ]
  },
  {
   "cell_type": "code",
   "execution_count": 15,
   "metadata": {
    "colab": {
     "base_uri": "https://localhost:8080/"
    },
    "executionInfo": {
     "elapsed": 1443,
     "status": "ok",
     "timestamp": 1667237854119,
     "user": {
      "displayName": "Martí Gelabert Gómez",
      "userId": "13467979719953201998"
     },
     "user_tz": -60
    },
    "id": "e-b-KtoIGomn",
    "outputId": "bc44f541-466e-4fdd-bb0d-62584a827288"
   },
   "outputs": [
    {
     "ename": "NameError",
     "evalue": "name 'predict_4_2' is not defined",
     "output_type": "error",
     "traceback": [
      "\u001b[1;31m---------------------------------------------------------------------------\u001b[0m",
      "\u001b[1;31mNameError\u001b[0m                                 Traceback (most recent call last)",
      "Input \u001b[1;32mIn [15]\u001b[0m, in \u001b[0;36m<cell line: 33>\u001b[1;34m()\u001b[0m\n\u001b[0;32m     30\u001b[0m x,y\u001b[38;5;241m=\u001b[39mequation25()\n\u001b[0;32m     31\u001b[0m k \u001b[38;5;241m=\u001b[39m [\u001b[38;5;241m5\u001b[39m,\u001b[38;5;241m5\u001b[39m]\n\u001b[1;32m---> 33\u001b[0m \u001b[43mexecute_4_2\u001b[49m\u001b[43m(\u001b[49m\u001b[43mx\u001b[49m\u001b[43m,\u001b[49m\u001b[43my\u001b[49m\u001b[43m,\u001b[49m\u001b[43mk\u001b[49m\u001b[43m,\u001b[49m\u001b[38;5;241;43m0.1\u001b[39;49m\u001b[43m,\u001b[49m\u001b[43mB\u001b[49m\u001b[43m)\u001b[49m\n",
      "Input \u001b[1;32mIn [15]\u001b[0m, in \u001b[0;36mexecute_4_2\u001b[1;34m(x, y, k, alpha, B)\u001b[0m\n\u001b[0;32m     13\u001b[0m \u001b[38;5;66;03m#print(\"Shape of W, should be same as dc ->\",np.array(dc).shape)\u001b[39;00m\n\u001b[0;32m     15\u001b[0m b \u001b[38;5;241m=\u001b[39m bj1_jn(w,y)  \n\u001b[1;32m---> 17\u001b[0m y_p\u001b[38;5;241m=\u001b[39m\u001b[43mpredict_4_2\u001b[49m(x,b, B,k)\n\u001b[0;32m     18\u001b[0m \u001b[38;5;66;03m#y_p = prediction(dc,b,w)\u001b[39;00m\n\u001b[0;32m     19\u001b[0m \u001b[38;5;28mprint\u001b[39m(\u001b[38;5;28mlen\u001b[39m(y_p))\n",
      "\u001b[1;31mNameError\u001b[0m: name 'predict_4_2' is not defined"
     ]
    }
   ],
   "source": [
    "def execute_4_2(x,y,k,alpha,B):\n",
    "  #membership_values=fuzz_membership(x,k)\n",
    "  membership_values = membership_for_all_features(x,k)\n",
    "  #print(\"Shape of membership values ->\",np.array(membership_values).shape)\n",
    "\n",
    "\n",
    "  # this will be the subspaces we will check on each value space\n",
    "  combinations = combinations_for_k(k)\n",
    "  dc = degree_of_compatibility(membership_values, combinations)\n",
    "  #print(\"Shape of the degree of compatibility vector (samples, combinations) ->\",np.array(dc).shape)\n",
    "\n",
    "  w = Wj1_jn(dc,k,alpha)\n",
    "  #print(\"Shape of W, should be same as dc ->\",np.array(dc).shape)\n",
    "\n",
    "  b = bj1_jn(w,y)  \n",
    "\n",
    "  y_p=predict_4_2(x,b, B,k)\n",
    "  #y_p = prediction(dc,b,w)\n",
    "  print(len(y_p))\n",
    "  PI = []\n",
    "  for i in range(len(y)):\n",
    "    a = (y_p[i]-y[i])**2\n",
    "    PI.append(a/2)\n",
    "    # print(f'predicted {y_p[i]} - real {y[i]}')\n",
    "  PI=np.array(PI)\n",
    "  print(\"K = \",k,\" alpha = \",alpha,\" accuracy = \", np.sum(PI) )\n",
    "  return np.sum(PI),y_p,b\n",
    "\n",
    "B = [5]\n",
    "x,y=equation25()\n",
    "k = [5,5]\n",
    "\n",
    "execute_4_2(x,y,k,0.1,B)"
   ]
  },
  {
   "cell_type": "markdown",
   "metadata": {
    "id": "5Q8nVoFWcZQu"
   },
   "source": [
    "# Exections\n",
    "\n",
    "## equation (12)\n",
    "\n",
    "$$y=0.2sin(2\\pi x+\\dfrac{\\pi}{4}+0.5, \\qquad 0 \\leq x \\leq 1)$$"
   ]
  },
  {
   "cell_type": "code",
   "execution_count": 16,
   "metadata": {
    "id": "ORgD4OWScZQv",
    "outputId": "883de623-9d3e-4425-9389-eb904a8c69f7"
   },
   "outputs": [
    {
     "name": "stdout",
     "output_type": "stream",
     "text": [
      "Prediction with section 3 method\n",
      "Prediction with section 3 method\n",
      "Prediction with section 3 method\n",
      "Prediction with section 3 method\n",
      "Prediction with section 3 method\n",
      "Prediction with section 3 method\n",
      "Prediction with section 3 method\n",
      "Prediction with section 3 method\n",
      "Prediction with section 3 method\n",
      "Prediction with section 3 method\n",
      "Prediction with section 3 method\n",
      "Prediction with section 3 method\n",
      "Prediction with section 3 method\n",
      "Prediction with section 3 method\n",
      "Prediction with section 3 method\n",
      "Prediction with section 3 method\n",
      "Prediction with section 3 method\n",
      "Prediction with section 3 method\n",
      "Prediction with section 3 method\n",
      "Prediction with section 3 method\n",
      "Prediction with section 3 method\n",
      "Prediction with section 3 method\n",
      "Prediction with section 3 method\n",
      "Prediction with section 3 method\n",
      "Prediction with section 3 method\n",
      "Prediction with section 3 method\n",
      "Prediction with section 3 method\n",
      "Prediction with section 3 method\n"
     ]
    },
    {
     "data": {
      "text/html": [
       "<div>\n",
       "<style scoped>\n",
       "    .dataframe tbody tr th:only-of-type {\n",
       "        vertical-align: middle;\n",
       "    }\n",
       "\n",
       "    .dataframe tbody tr th {\n",
       "        vertical-align: top;\n",
       "    }\n",
       "\n",
       "    .dataframe thead th {\n",
       "        text-align: right;\n",
       "    }\n",
       "</style>\n",
       "<table border=\"1\" class=\"dataframe\">\n",
       "  <thead>\n",
       "    <tr style=\"text-align: right;\">\n",
       "      <th></th>\n",
       "      <th>alpha</th>\n",
       "      <th>K = 2</th>\n",
       "      <th>K = 3</th>\n",
       "      <th>K = 4</th>\n",
       "      <th>K = 5</th>\n",
       "    </tr>\n",
       "  </thead>\n",
       "  <tbody>\n",
       "    <tr>\n",
       "      <th>0</th>\n",
       "      <td>0.1</td>\n",
       "      <td>0.107858</td>\n",
       "      <td>0.070117</td>\n",
       "      <td>0.041307</td>\n",
       "      <td>0.019521</td>\n",
       "    </tr>\n",
       "    <tr>\n",
       "      <th>1</th>\n",
       "      <td>0.5</td>\n",
       "      <td>0.100749</td>\n",
       "      <td>0.059839</td>\n",
       "      <td>0.031934</td>\n",
       "      <td>0.015040</td>\n",
       "    </tr>\n",
       "    <tr>\n",
       "      <th>2</th>\n",
       "      <td>1.0</td>\n",
       "      <td>0.095313</td>\n",
       "      <td>0.051295</td>\n",
       "      <td>0.024918</td>\n",
       "      <td>0.011344</td>\n",
       "    </tr>\n",
       "    <tr>\n",
       "      <th>3</th>\n",
       "      <td>5.0</td>\n",
       "      <td>0.125598</td>\n",
       "      <td>0.043903</td>\n",
       "      <td>0.014611</td>\n",
       "      <td>0.005621</td>\n",
       "    </tr>\n",
       "    <tr>\n",
       "      <th>4</th>\n",
       "      <td>10.0</td>\n",
       "      <td>0.164535</td>\n",
       "      <td>0.048998</td>\n",
       "      <td>0.014437</td>\n",
       "      <td>0.005394</td>\n",
       "    </tr>\n",
       "    <tr>\n",
       "      <th>5</th>\n",
       "      <td>50.0</td>\n",
       "      <td>0.199616</td>\n",
       "      <td>0.052222</td>\n",
       "      <td>0.015990</td>\n",
       "      <td>0.005390</td>\n",
       "    </tr>\n",
       "    <tr>\n",
       "      <th>6</th>\n",
       "      <td>100.0</td>\n",
       "      <td>0.199998</td>\n",
       "      <td>0.052223</td>\n",
       "      <td>0.016020</td>\n",
       "      <td>0.005390</td>\n",
       "    </tr>\n",
       "  </tbody>\n",
       "</table>\n",
       "</div>"
      ],
      "text/plain": [
       "   alpha     K = 2     K = 3     K = 4     K = 5\n",
       "0    0.1  0.107858  0.070117  0.041307  0.019521\n",
       "1    0.5  0.100749  0.059839  0.031934  0.015040\n",
       "2    1.0  0.095313  0.051295  0.024918  0.011344\n",
       "3    5.0  0.125598  0.043903  0.014611  0.005621\n",
       "4   10.0  0.164535  0.048998  0.014437  0.005394\n",
       "5   50.0  0.199616  0.052222  0.015990  0.005390\n",
       "6  100.0  0.199998  0.052223  0.016020  0.005390"
      ]
     },
     "execution_count": 16,
     "metadata": {},
     "output_type": "execute_result"
    }
   ],
   "source": [
    "#data = np.linspace(0.0, 1.0, num=3,dtype=\"float\")\n",
    "data = np.arange(0, 1.1, 0.1)\n",
    "def test(data): #equation 13\n",
    "  output = []\n",
    "  for x in data:\n",
    "    output.append(0.2*math.sin(2*math.pi*x+math.pi/4) + 0.5)\n",
    "  return np.array(output)\n",
    "\n",
    "y=test(data)\n",
    "x = np.array(data)\n",
    "\n",
    "ks= [[2],[3],[4],[5]]\n",
    "alphas = [0.1,0.5,1,5,10,50,100]\n",
    "  \n",
    "execute_getIP(np.array(ks),alphas,x,y)"
   ]
  },
  {
   "cell_type": "markdown",
   "metadata": {
    "id": "soMAqW57cZQv"
   },
   "source": [
    "## equation (25)\n",
    "\n",
    "$$y=(1-x_1^{-2}+x_2^{-15})^2, \\qquad 1\\leq x_1,x_2 \\leq 5$$"
   ]
  },
  {
   "cell_type": "code",
   "execution_count": 17,
   "metadata": {
    "id": "j1VVpjSrcZQw",
    "outputId": "f9e270ec-763e-4930-c019-a8f1cfda2a26"
   },
   "outputs": [
    {
     "name": "stdout",
     "output_type": "stream",
     "text": [
      "Prediction with section 3 method\n",
      "Prediction with section 3 method\n",
      "Prediction with section 3 method\n",
      "Prediction with section 3 method\n",
      "Prediction with section 3 method\n",
      "Prediction with section 3 method\n",
      "Prediction with section 3 method\n",
      "Prediction with section 3 method\n",
      "Prediction with section 3 method\n",
      "Prediction with section 3 method\n",
      "Prediction with section 3 method\n",
      "Prediction with section 3 method\n",
      "Prediction with section 3 method\n",
      "Prediction with section 3 method\n",
      "Prediction with section 3 method\n",
      "Prediction with section 3 method\n",
      "Prediction with section 3 method\n",
      "Prediction with section 3 method\n",
      "Prediction with section 3 method\n",
      "Prediction with section 3 method\n",
      "Prediction with section 3 method\n",
      "Prediction with section 3 method\n",
      "Prediction with section 3 method\n",
      "Prediction with section 3 method\n",
      "Prediction with section 3 method\n",
      "Prediction with section 3 method\n",
      "Prediction with section 3 method\n",
      "Prediction with section 3 method\n"
     ]
    },
    {
     "data": {
      "text/html": [
       "<div>\n",
       "<style scoped>\n",
       "    .dataframe tbody tr th:only-of-type {\n",
       "        vertical-align: middle;\n",
       "    }\n",
       "\n",
       "    .dataframe tbody tr th {\n",
       "        vertical-align: top;\n",
       "    }\n",
       "\n",
       "    .dataframe thead th {\n",
       "        text-align: right;\n",
       "    }\n",
       "</style>\n",
       "<table border=\"1\" class=\"dataframe\">\n",
       "  <thead>\n",
       "    <tr style=\"text-align: right;\">\n",
       "      <th></th>\n",
       "      <th>alpha</th>\n",
       "      <th>K = 2</th>\n",
       "      <th>K = 3</th>\n",
       "      <th>K = 4</th>\n",
       "      <th>K = 5</th>\n",
       "    </tr>\n",
       "  </thead>\n",
       "  <tbody>\n",
       "    <tr>\n",
       "      <th>0</th>\n",
       "      <td>0.1</td>\n",
       "      <td>1.622001</td>\n",
       "      <td>0.746565</td>\n",
       "      <td>0.565425</td>\n",
       "      <td>0.415411</td>\n",
       "    </tr>\n",
       "    <tr>\n",
       "      <th>1</th>\n",
       "      <td>0.5</td>\n",
       "      <td>1.182693</td>\n",
       "      <td>0.629834</td>\n",
       "      <td>0.462009</td>\n",
       "      <td>0.321578</td>\n",
       "    </tr>\n",
       "    <tr>\n",
       "      <th>2</th>\n",
       "      <td>1.0</td>\n",
       "      <td>0.925733</td>\n",
       "      <td>0.523079</td>\n",
       "      <td>0.373824</td>\n",
       "      <td>0.248956</td>\n",
       "    </tr>\n",
       "    <tr>\n",
       "      <th>3</th>\n",
       "      <td>5.0</td>\n",
       "      <td>0.727583</td>\n",
       "      <td>0.405085</td>\n",
       "      <td>0.233279</td>\n",
       "      <td>0.169824</td>\n",
       "    </tr>\n",
       "    <tr>\n",
       "      <th>4</th>\n",
       "      <td>10.0</td>\n",
       "      <td>0.978236</td>\n",
       "      <td>0.566194</td>\n",
       "      <td>0.233968</td>\n",
       "      <td>0.194113</td>\n",
       "    </tr>\n",
       "    <tr>\n",
       "      <th>5</th>\n",
       "      <td>50.0</td>\n",
       "      <td>1.601089</td>\n",
       "      <td>0.862842</td>\n",
       "      <td>0.261424</td>\n",
       "      <td>0.216598</td>\n",
       "    </tr>\n",
       "    <tr>\n",
       "      <th>6</th>\n",
       "      <td>100.0</td>\n",
       "      <td>1.696847</td>\n",
       "      <td>0.876255</td>\n",
       "      <td>0.271551</td>\n",
       "      <td>0.217007</td>\n",
       "    </tr>\n",
       "  </tbody>\n",
       "</table>\n",
       "</div>"
      ],
      "text/plain": [
       "   alpha     K = 2     K = 3     K = 4     K = 5\n",
       "0    0.1  1.622001  0.746565  0.565425  0.415411\n",
       "1    0.5  1.182693  0.629834  0.462009  0.321578\n",
       "2    1.0  0.925733  0.523079  0.373824  0.248956\n",
       "3    5.0  0.727583  0.405085  0.233279  0.169824\n",
       "4   10.0  0.978236  0.566194  0.233968  0.194113\n",
       "5   50.0  1.601089  0.862842  0.261424  0.216598\n",
       "6  100.0  1.696847  0.876255  0.271551  0.217007"
      ]
     },
     "execution_count": 17,
     "metadata": {},
     "output_type": "execute_result"
    }
   ],
   "source": [
    "# TEST FOR VALUES\n",
    "# THE FUNCTIONS ARE OKEY, IF THERE IS A PROBLOM SHOULD BE ON THE TABLES\n",
    "x,y=equation25()\n",
    "\n",
    "ks = [[2,2],[3,3],[4,4],[5,5]]\n",
    "alphas = [0.1,0.5,1,5,10,50,100]\n",
    "\n",
    "execute_getIP(np.array(ks),alphas,x,y)"
   ]
  },
  {
   "cell_type": "code",
   "execution_count": 18,
   "metadata": {
    "id": "QOwPR4PAcZQw",
    "outputId": "27b2d534-5bc9-4fcd-cfcd-6bb91541257e"
   },
   "outputs": [
    {
     "data": {
      "text/plain": [
       "array([[0.  , 0.  , 0.25],\n",
       "       [0.  , 0.25, 0.5 ],\n",
       "       [0.25, 0.5 , 0.75],\n",
       "       [0.5 , 0.75, 1.  ],\n",
       "       [0.75, 1.  , 1.  ]])"
      ]
     },
     "execution_count": 18,
     "metadata": {},
     "output_type": "execute_result"
    }
   ],
   "source": [
    "# >:c its gut\n",
    "k_partitions(5,0, 1)\n",
    "    "
   ]
  },
  {
   "cell_type": "markdown",
   "metadata": {
    "id": "MU4iwh63cZQx"
   },
   "source": [
    "# Problem Assigment"
   ]
  },
  {
   "cell_type": "code",
   "execution_count": 19,
   "metadata": {
    "id": "9oDjRYCJcZQx"
   },
   "outputs": [
    {
     "name": "stdout",
     "output_type": "stream",
     "text": [
      "Prediction with section 3 method\n",
      "Prediction with section 3 method\n",
      "Prediction with section 3 method\n",
      "Prediction with section 3 method\n",
      "Prediction with section 3 method\n",
      "Prediction with section 3 method\n",
      "Prediction with section 3 method\n",
      "Prediction with section 3 method\n",
      "Prediction with section 3 method\n",
      "Prediction with section 3 method\n",
      "Prediction with section 3 method\n",
      "Prediction with section 3 method\n",
      "Prediction with section 3 method\n",
      "Prediction with section 3 method\n",
      "Prediction with section 3 method\n",
      "Prediction with section 3 method\n",
      "Prediction with section 3 method\n",
      "Prediction with section 3 method\n",
      "Prediction with section 3 method\n",
      "Prediction with section 3 method\n",
      "Prediction with section 3 method\n",
      "Prediction with section 3 method\n",
      "Prediction with section 3 method\n",
      "Prediction with section 3 method\n",
      "Prediction with section 3 method\n",
      "Prediction with section 3 method\n",
      "Prediction with section 3 method\n",
      "Prediction with section 3 method\n"
     ]
    }
   ],
   "source": [
    "# Experience \tComplexity \tQuality\n",
    "df = pd.read_csv(\"fz.csv\", sep=\";\",names=[\"Experience\", \"Complexity\", \"Quality\"])\n",
    "\n",
    "data  = df.to_numpy()\n",
    "data  = np.float64(data)\n",
    "data_scaled,_ = normalize_data(data)\n",
    "\n",
    "####\n",
    "x, y = splitLastColumn(data_scaled)\n",
    "####\n",
    "\n",
    "ks= [[2,2],[3,3],[4,4],[5,5]]\n",
    "alphas = [0.1,0.5,1,5,10,50,100]  \n",
    "\n",
    "pd.options.display.float_format = '{:,.4f}'.format\n",
    "execute_getIP(np.array(ks),alphas,x,y).to_csv('file1.csv')"
   ]
  },
  {
   "cell_type": "code",
   "execution_count": 20,
   "metadata": {
    "id": "LkVVZAwScZQx",
    "outputId": "271bec12-f692-4329-e2fc-1c83f89ed733"
   },
   "outputs": [
    {
     "name": "stdout",
     "output_type": "stream",
     "text": [
      "Prediction with section 3 method\n"
     ]
    },
    {
     "ename": "NameError",
     "evalue": "name 'deriving' is not defined",
     "output_type": "error",
     "traceback": [
      "\u001b[1;31m---------------------------------------------------------------------------\u001b[0m",
      "\u001b[1;31mNameError\u001b[0m                                 Traceback (most recent call last)",
      "Input \u001b[1;32mIn [20]\u001b[0m, in \u001b[0;36m<cell line: 3>\u001b[1;34m()\u001b[0m\n\u001b[0;32m      1\u001b[0m a,out,b \u001b[38;5;241m=\u001b[39m execute(x,y,np\u001b[38;5;241m.\u001b[39marray([\u001b[38;5;241m5\u001b[39m,\u001b[38;5;241m5\u001b[39m]),\u001b[38;5;241m5\u001b[39m)\n\u001b[1;32m----> 3\u001b[0m out,first,second \u001b[38;5;241m=\u001b[39m \u001b[43mderiving\u001b[49m(b,np\u001b[38;5;241m.\u001b[39marray([\u001b[38;5;241m5\u001b[39m]) ,np\u001b[38;5;241m.\u001b[39marray([\u001b[38;5;241m5\u001b[39m,\u001b[38;5;241m5\u001b[39m]))\n\u001b[0;32m      5\u001b[0m ax \u001b[38;5;241m=\u001b[39m sns\u001b[38;5;241m.\u001b[39mheatmap( first, annot \u001b[38;5;241m=\u001b[39m \u001b[38;5;28;01mTrue\u001b[39;00m, cmap \u001b[38;5;241m=\u001b[39m\u001b[38;5;124m'\u001b[39m\u001b[38;5;124mplasma\u001b[39m\u001b[38;5;124m'\u001b[39m,linecolor \u001b[38;5;241m=\u001b[39m\u001b[38;5;124m'\u001b[39m\u001b[38;5;124mblack\u001b[39m\u001b[38;5;124m'\u001b[39m, linewidths \u001b[38;5;241m=\u001b[39m \u001b[38;5;241m1\u001b[39m)\n\u001b[0;32m      6\u001b[0m ax\u001b[38;5;241m.\u001b[39minvert_yaxis() \n",
      "\u001b[1;31mNameError\u001b[0m: name 'deriving' is not defined"
     ]
    }
   ],
   "source": [
    "a,out,b = execute(x,y,np.array([5,5]),5)\n",
    "\n",
    "out,first,second = deriving(b,np.array([5]) ,np.array([5,5]))\n",
    "\n",
    "ax = sns.heatmap( first, annot = True, cmap ='plasma',linecolor ='black', linewidths = 1)\n",
    "ax.invert_yaxis() \n",
    "\n",
    "representation(first, combinations_for_k(np.array([5,5])))\n"
   ]
  },
  {
   "cell_type": "code",
   "execution_count": null,
   "metadata": {},
   "outputs": [],
   "source": []
  }
 ],
 "metadata": {
  "colab": {
   "collapsed_sections": [],
   "provenance": []
  },
  "kernelspec": {
   "display_name": "Python 3 (ipykernel)",
   "language": "python",
   "name": "python3"
  },
  "language_info": {
   "codemirror_mode": {
    "name": "ipython",
    "version": 3
   },
   "file_extension": ".py",
   "mimetype": "text/x-python",
   "name": "python",
   "nbconvert_exporter": "python",
   "pygments_lexer": "ipython3",
   "version": "3.10.6"
  }
 },
 "nbformat": 4,
 "nbformat_minor": 1
}
